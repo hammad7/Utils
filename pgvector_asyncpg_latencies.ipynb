{
  "nbformat": 4,
  "nbformat_minor": 0,
  "metadata": {
    "colab": {
      "provenance": []
    },
    "kernelspec": {
      "name": "python3",
      "display_name": "Python 3"
    },
    "language_info": {
      "name": "python"
    }
  },
  "cells": [
    {
      "cell_type": "markdown",
      "source": [
        "### Conf 1 (1 cpu):\n",
        "*   pool - 10/10\n",
        "*   local mac env\n",
        "*   memory limit 4gb (actual peak < 0.5gb),\n",
        "*   cpu limit 1 (set by docker run --cpus=\"1.0\" -m 4g --memory-swap 4g <image-name>)\n",
        "*   index size of 200k emb 313mb (40s insertion time)\n",
        "*   image: vibrant_panini\n",
        "*   index type - ivfflat\n",
        "*   topk-5\n",
        "\n",
        "\n",
        "\n"
      ],
      "metadata": {
        "id": "jCRNJfRt07-t"
      }
    },
    {
      "cell_type": "code",
      "execution_count": 1,
      "metadata": {
        "colab": {
          "base_uri": "https://localhost:8080/",
          "height": 509
        },
        "id": "NdLXDuE60YIV",
        "outputId": "b2e234ca-432b-4f2a-dceb-f08d0e594c39"
      },
      "outputs": [
        {
          "output_type": "execute_result",
          "data": {
            "text/html": [
              "\n",
              "<style>\n",
              "  #altair-viz-33ce5d924e344f8b94ce32683d3c3370.vega-embed {\n",
              "    width: 100%;\n",
              "    display: flex;\n",
              "  }\n",
              "\n",
              "  #altair-viz-33ce5d924e344f8b94ce32683d3c3370.vega-embed details,\n",
              "  #altair-viz-33ce5d924e344f8b94ce32683d3c3370.vega-embed details summary {\n",
              "    position: relative;\n",
              "  }\n",
              "</style>\n",
              "<div id=\"altair-viz-33ce5d924e344f8b94ce32683d3c3370\"></div>\n",
              "<script type=\"text/javascript\">\n",
              "  var VEGA_DEBUG = (typeof VEGA_DEBUG == \"undefined\") ? {} : VEGA_DEBUG;\n",
              "  (function(spec, embedOpt){\n",
              "    let outputDiv = document.currentScript.previousElementSibling;\n",
              "    if (outputDiv.id !== \"altair-viz-33ce5d924e344f8b94ce32683d3c3370\") {\n",
              "      outputDiv = document.getElementById(\"altair-viz-33ce5d924e344f8b94ce32683d3c3370\");\n",
              "    }\n",
              "\n",
              "    const paths = {\n",
              "      \"vega\": \"https://cdn.jsdelivr.net/npm/vega@5?noext\",\n",
              "      \"vega-lib\": \"https://cdn.jsdelivr.net/npm/vega-lib?noext\",\n",
              "      \"vega-lite\": \"https://cdn.jsdelivr.net/npm/vega-lite@5.20.1?noext\",\n",
              "      \"vega-embed\": \"https://cdn.jsdelivr.net/npm/vega-embed@6?noext\",\n",
              "    };\n",
              "\n",
              "    function maybeLoadScript(lib, version) {\n",
              "      var key = `${lib.replace(\"-\", \"\")}_version`;\n",
              "      return (VEGA_DEBUG[key] == version) ?\n",
              "        Promise.resolve(paths[lib]) :\n",
              "        new Promise(function(resolve, reject) {\n",
              "          var s = document.createElement('script');\n",
              "          document.getElementsByTagName(\"head\")[0].appendChild(s);\n",
              "          s.async = true;\n",
              "          s.onload = () => {\n",
              "            VEGA_DEBUG[key] = version;\n",
              "            return resolve(paths[lib]);\n",
              "          };\n",
              "          s.onerror = () => reject(`Error loading script: ${paths[lib]}`);\n",
              "          s.src = paths[lib];\n",
              "        });\n",
              "    }\n",
              "\n",
              "    function showError(err) {\n",
              "      outputDiv.innerHTML = `<div class=\"error\" style=\"color:red;\">${err}</div>`;\n",
              "      throw err;\n",
              "    }\n",
              "\n",
              "    function displayChart(vegaEmbed) {\n",
              "      vegaEmbed(outputDiv, spec, embedOpt)\n",
              "        .catch(err => showError(`Javascript Error: ${err.message}<br>This usually means there's a typo in your chart specification. See the javascript console for the full traceback.`));\n",
              "    }\n",
              "\n",
              "    if(typeof define === \"function\" && define.amd) {\n",
              "      requirejs.config({paths});\n",
              "      let deps = [\"vega-embed\"];\n",
              "      require(deps, displayChart, err => showError(`Error loading script: ${err.message}`));\n",
              "    } else {\n",
              "      maybeLoadScript(\"vega\", \"5\")\n",
              "        .then(() => maybeLoadScript(\"vega-lite\", \"5.20.1\"))\n",
              "        .then(() => maybeLoadScript(\"vega-embed\", \"6\"))\n",
              "        .catch(showError)\n",
              "        .then(() => displayChart(vegaEmbed));\n",
              "    }\n",
              "  })({\"config\": {\"view\": {\"continuousWidth\": 300, \"continuousHeight\": 300}}, \"data\": {\"name\": \"data-0d972d0a4f1193e456f1af12c7ba41eb\"}, \"mark\": {\"type\": \"line\", \"point\": true}, \"encoding\": {\"color\": {\"field\": \"act_emb_batch_size\", \"title\": \"act_emb_batch_size\", \"type\": \"nominal\"}, \"tooltip\": [{\"field\": \"emb_data_size\", \"type\": \"quantitative\"}, {\"field\": \"act_emb_batch_size\", \"type\": \"quantitative\"}, {\"field\": \"search_time\", \"type\": \"quantitative\"}], \"x\": {\"field\": \"emb_data_size\", \"title\": \"emb_data_size\", \"type\": \"ordinal\"}, \"y\": {\"field\": \"search_time\", \"title\": \"search_time\", \"type\": \"quantitative\"}}, \"height\": 400, \"params\": [{\"name\": \"param_1\", \"select\": {\"type\": \"interval\", \"encodings\": [\"x\", \"y\"]}, \"bind\": \"scales\"}], \"title\": \"Impact of emb_data_size on Search Time for Different act_emb_batch_size\", \"width\": 700, \"$schema\": \"https://vega.github.io/schema/vega-lite/v5.20.1.json\", \"datasets\": {\"data-0d972d0a4f1193e456f1af12c7ba41eb\": [{\"emb_data_size\": 20000, \"act_emb_batch_size\": 10000, \"search_time\": 4.248686}, {\"emb_data_size\": 20000, \"act_emb_batch_size\": 20000, \"search_time\": 8.918001}, {\"emb_data_size\": 20000, \"act_emb_batch_size\": 30000, \"search_time\": 11.312279}, {\"emb_data_size\": 20000, \"act_emb_batch_size\": 40000, \"search_time\": 16.33014}, {\"emb_data_size\": 20000, \"act_emb_batch_size\": 50000, \"search_time\": 19.565842}, {\"emb_data_size\": 30000, \"act_emb_batch_size\": 10000, \"search_time\": 5.319616}, {\"emb_data_size\": 30000, \"act_emb_batch_size\": 20000, \"search_time\": 12.42987}, {\"emb_data_size\": 30000, \"act_emb_batch_size\": 30000, \"search_time\": 13.883022}, {\"emb_data_size\": 30000, \"act_emb_batch_size\": 40000, \"search_time\": 22.46854}, {\"emb_data_size\": 30000, \"act_emb_batch_size\": 50000, \"search_time\": 26.918646}, {\"emb_data_size\": 40000, \"act_emb_batch_size\": 10000, \"search_time\": 10.622216}, {\"emb_data_size\": 40000, \"act_emb_batch_size\": 20000, \"search_time\": 26.457693}, {\"emb_data_size\": 40000, \"act_emb_batch_size\": 30000, \"search_time\": 23.219754}, {\"emb_data_size\": 40000, \"act_emb_batch_size\": 40000, \"search_time\": 36.982101}, {\"emb_data_size\": 40000, \"act_emb_batch_size\": 50000, \"search_time\": 41.225809}, {\"emb_data_size\": 50000, \"act_emb_batch_size\": 10000, \"search_time\": 9.234701}, {\"emb_data_size\": 50000, \"act_emb_batch_size\": 20000, \"search_time\": 20.399023}, {\"emb_data_size\": 50000, \"act_emb_batch_size\": 30000, \"search_time\": 26.089241}, {\"emb_data_size\": 50000, \"act_emb_batch_size\": 40000, \"search_time\": 41.346467}, {\"emb_data_size\": 50000, \"act_emb_batch_size\": 50000, \"search_time\": 51.428232}, {\"emb_data_size\": 100000, \"act_emb_batch_size\": 10000, \"search_time\": 17.357118}, {\"emb_data_size\": 100000, \"act_emb_batch_size\": 20000, \"search_time\": 33.227014}, {\"emb_data_size\": 100000, \"act_emb_batch_size\": 30000, \"search_time\": 48.402495}, {\"emb_data_size\": 100000, \"act_emb_batch_size\": 40000, \"search_time\": 58.101533}, {\"emb_data_size\": 100000, \"act_emb_batch_size\": 50000, \"search_time\": 75.838936}, {\"emb_data_size\": 150000, \"act_emb_batch_size\": 10000, \"search_time\": 28.521867}, {\"emb_data_size\": 150000, \"act_emb_batch_size\": 20000, \"search_time\": 46.406221}, {\"emb_data_size\": 150000, \"act_emb_batch_size\": 30000, \"search_time\": 72.696229}, {\"emb_data_size\": 150000, \"act_emb_batch_size\": 40000, \"search_time\": 90.101968}, {\"emb_data_size\": 150000, \"act_emb_batch_size\": 50000, \"search_time\": 107.190307}, {\"emb_data_size\": 200000, \"act_emb_batch_size\": 10000, \"search_time\": 31.032241}, {\"emb_data_size\": 200000, \"act_emb_batch_size\": 20000, \"search_time\": 49.03421}, {\"emb_data_size\": 200000, \"act_emb_batch_size\": 30000, \"search_time\": 78.55145}, {\"emb_data_size\": 200000, \"act_emb_batch_size\": 40000, \"search_time\": 114.842608}, {\"emb_data_size\": 200000, \"act_emb_batch_size\": 50000, \"search_time\": 172.19318}]}}, {\"mode\": \"vega-lite\"});\n",
              "</script>"
            ],
            "text/plain": [
              "alt.Chart(...)"
            ]
          },
          "metadata": {},
          "execution_count": 1
        }
      ],
      "source": [
        "import altair as alt\n",
        "import pandas as pd\n",
        "\n",
        "\n",
        "data = {\n",
        "    'emb_data_size': [20000, 20000, 20000, 20000, 20000, 30000, 30000, 30000, 30000, 30000, 40000, 40000, 40000, 40000, 40000, 50000, 50000, 50000, 50000, 50000, 100000, 100000, 100000, 100000, 100000, 150000, 150000, 150000, 150000, 150000, 200000, 200000, 200000, 200000, 200000],\n",
        "    'act_emb_batch_size': [10000, 20000, 30000, 40000, 50000, 10000, 20000, 30000, 40000, 50000, 10000, 20000, 30000, 40000, 50000, 10000, 20000, 30000, 40000, 50000, 10000, 20000, 30000, 40000, 50000, 10000, 20000, 30000, 40000, 50000, 10000, 20000, 30000, 40000, 50000],\n",
        "    'search_time': [4.248686, 8.918001, 11.312279, 16.330140, 19.565842, 5.319616, 12.429870, 13.883022, 22.468540, 26.918646, 10.622216, 26.457693, 23.219754, 36.982101, 41.225809, 9.234701, 20.399023, 26.089241, 41.346467, 51.428232, 17.357118, 33.227014, 48.402495, 58.101533, 75.838936, 28.521867, 46.406221, 72.696229, 90.101968, 107.190307, 31.032241, 49.034210, 78.551450, 114.842608, 172.193180]\n",
        "}\n",
        "df = pd.DataFrame(data)\n",
        "\n",
        "# Create the chart\n",
        "chart = alt.Chart(df).mark_line(point=True).encode(\n",
        "    x=alt.X('emb_data_size:O', title='emb_data_size'),  # Treat emb_data_size as ordinal\n",
        "    y=alt.Y('search_time:Q', title='search_time'),\n",
        "    color=alt.Color('act_emb_batch_size:N', title='act_emb_batch_size'),  # Treat act_emb_batch_size as nominal\n",
        "    tooltip=['emb_data_size', 'act_emb_batch_size', 'search_time']  # Add tooltip for interactivity\n",
        ").properties(\n",
        "    title='Impact of emb_data_size on Search Time for Different act_emb_batch_size',\n",
        "    width=700,\n",
        "    height=400\n",
        ").interactive()  # Enable interactive panning and zooming\n",
        "\n",
        "chart"
      ]
    },
    {
      "cell_type": "markdown",
      "source": [
        "### Conf 2 (2 cpu):\n",
        "*   pool - 10/10\n",
        "*   local mac env\n",
        "*   memory limit 4gb (actual peak < 0.5gb),\n",
        "*   cpu limit 2 (set by docker run --cpus=\"2.0\" -m 4g --memory-swap 4g <image-name>)\n",
        "*   index size of 200k emb 313mb\n",
        "*   image: relaxed_carson\n",
        "*   index type - ivfflat\n",
        "*   topk-5\n",
        "\n",
        "\n",
        "\n"
      ],
      "metadata": {
        "id": "xWuDXSic1y33"
      }
    },
    {
      "cell_type": "code",
      "source": [
        "import altair as alt\n",
        "import pandas as pd\n",
        "\n",
        "\n",
        "data =  {\n",
        "    'emb_data_size': [20000, 20000, 20000, 20000, 20000, 30000, 30000, 30000, 30000, 30000, 40000, 40000, 40000, 40000, 40000, 50000, 50000, 50000, 50000, 50000, 100000, 100000, 100000, 100000, 100000, 150000, 150000, 150000, 150000, 150000, 200000, 200000, 200000, 200000, 200000],\n",
        "    'act_emb_batch_size': [10000, 20000, 30000, 40000, 50000, 10000, 20000, 30000, 40000, 50000, 10000, 20000, 30000, 40000, 50000, 10000, 20000, 30000, 40000, 50000, 10000, 20000, 30000, 40000, 50000, 10000, 20000, 30000, 40000, 50000, 10000, 20000, 30000, 40000, 50000],\n",
        "    'search_time': [3.021059, 6.173399, 9.324160, 12.845653, 15.331420, 3.190155, 6.625181, 9.564243, 12.921734, 16.237274, 3.850783, 7.332977, 11.308969, 14.178081, 16.252030, 4.743347, 6.289605, 10.923016, 13.012750, 16.936470, 4.174181, 8.461123, 14.828543, 19.083432, 24.249629, 7.570441, 11.908052, 17.930405, 23.633669, 30.538998, 7.497427, 14.642496, 22.535946, 32.092848, 39.933198]\n",
        "}\n",
        "\n",
        "df = pd.DataFrame(data)\n",
        "\n",
        "# Create the chart\n",
        "chart = alt.Chart(df).mark_line(point=True).encode(\n",
        "    x=alt.X('emb_data_size:O', title='emb_data_size'),  # Treat emb_data_size as ordinal\n",
        "    y=alt.Y('search_time:Q', title='search_time'),\n",
        "    color=alt.Color('act_emb_batch_size:N', title='act_emb_batch_size'),  # Treat act_emb_batch_size as nominal\n",
        "    tooltip=['emb_data_size', 'act_emb_batch_size', 'search_time']  # Add tooltip for interactivity\n",
        ").properties(\n",
        "    title='Impact of emb_data_size on Search Time for Different act_emb_batch_size',\n",
        "    width=700,\n",
        "    height=400\n",
        ").interactive()  # Enable interactive panning and zooming\n",
        "\n",
        "chart"
      ],
      "metadata": {
        "colab": {
          "base_uri": "https://localhost:8080/",
          "height": 509
        },
        "id": "gzQtMy9g3sMY",
        "outputId": "1828551b-5bae-4a0b-99c5-c0988c1fcc5b"
      },
      "execution_count": 2,
      "outputs": [
        {
          "output_type": "execute_result",
          "data": {
            "text/html": [
              "\n",
              "<style>\n",
              "  #altair-viz-3086fe8df6b54fcf8571cb80b0746b57.vega-embed {\n",
              "    width: 100%;\n",
              "    display: flex;\n",
              "  }\n",
              "\n",
              "  #altair-viz-3086fe8df6b54fcf8571cb80b0746b57.vega-embed details,\n",
              "  #altair-viz-3086fe8df6b54fcf8571cb80b0746b57.vega-embed details summary {\n",
              "    position: relative;\n",
              "  }\n",
              "</style>\n",
              "<div id=\"altair-viz-3086fe8df6b54fcf8571cb80b0746b57\"></div>\n",
              "<script type=\"text/javascript\">\n",
              "  var VEGA_DEBUG = (typeof VEGA_DEBUG == \"undefined\") ? {} : VEGA_DEBUG;\n",
              "  (function(spec, embedOpt){\n",
              "    let outputDiv = document.currentScript.previousElementSibling;\n",
              "    if (outputDiv.id !== \"altair-viz-3086fe8df6b54fcf8571cb80b0746b57\") {\n",
              "      outputDiv = document.getElementById(\"altair-viz-3086fe8df6b54fcf8571cb80b0746b57\");\n",
              "    }\n",
              "\n",
              "    const paths = {\n",
              "      \"vega\": \"https://cdn.jsdelivr.net/npm/vega@5?noext\",\n",
              "      \"vega-lib\": \"https://cdn.jsdelivr.net/npm/vega-lib?noext\",\n",
              "      \"vega-lite\": \"https://cdn.jsdelivr.net/npm/vega-lite@5.20.1?noext\",\n",
              "      \"vega-embed\": \"https://cdn.jsdelivr.net/npm/vega-embed@6?noext\",\n",
              "    };\n",
              "\n",
              "    function maybeLoadScript(lib, version) {\n",
              "      var key = `${lib.replace(\"-\", \"\")}_version`;\n",
              "      return (VEGA_DEBUG[key] == version) ?\n",
              "        Promise.resolve(paths[lib]) :\n",
              "        new Promise(function(resolve, reject) {\n",
              "          var s = document.createElement('script');\n",
              "          document.getElementsByTagName(\"head\")[0].appendChild(s);\n",
              "          s.async = true;\n",
              "          s.onload = () => {\n",
              "            VEGA_DEBUG[key] = version;\n",
              "            return resolve(paths[lib]);\n",
              "          };\n",
              "          s.onerror = () => reject(`Error loading script: ${paths[lib]}`);\n",
              "          s.src = paths[lib];\n",
              "        });\n",
              "    }\n",
              "\n",
              "    function showError(err) {\n",
              "      outputDiv.innerHTML = `<div class=\"error\" style=\"color:red;\">${err}</div>`;\n",
              "      throw err;\n",
              "    }\n",
              "\n",
              "    function displayChart(vegaEmbed) {\n",
              "      vegaEmbed(outputDiv, spec, embedOpt)\n",
              "        .catch(err => showError(`Javascript Error: ${err.message}<br>This usually means there's a typo in your chart specification. See the javascript console for the full traceback.`));\n",
              "    }\n",
              "\n",
              "    if(typeof define === \"function\" && define.amd) {\n",
              "      requirejs.config({paths});\n",
              "      let deps = [\"vega-embed\"];\n",
              "      require(deps, displayChart, err => showError(`Error loading script: ${err.message}`));\n",
              "    } else {\n",
              "      maybeLoadScript(\"vega\", \"5\")\n",
              "        .then(() => maybeLoadScript(\"vega-lite\", \"5.20.1\"))\n",
              "        .then(() => maybeLoadScript(\"vega-embed\", \"6\"))\n",
              "        .catch(showError)\n",
              "        .then(() => displayChart(vegaEmbed));\n",
              "    }\n",
              "  })({\"config\": {\"view\": {\"continuousWidth\": 300, \"continuousHeight\": 300}}, \"data\": {\"name\": \"data-8950dc37c5fcc3e66708f712f8c5954a\"}, \"mark\": {\"type\": \"line\", \"point\": true}, \"encoding\": {\"color\": {\"field\": \"act_emb_batch_size\", \"title\": \"act_emb_batch_size\", \"type\": \"nominal\"}, \"tooltip\": [{\"field\": \"emb_data_size\", \"type\": \"quantitative\"}, {\"field\": \"act_emb_batch_size\", \"type\": \"quantitative\"}, {\"field\": \"search_time\", \"type\": \"quantitative\"}], \"x\": {\"field\": \"emb_data_size\", \"title\": \"emb_data_size\", \"type\": \"ordinal\"}, \"y\": {\"field\": \"search_time\", \"title\": \"search_time\", \"type\": \"quantitative\"}}, \"height\": 400, \"params\": [{\"name\": \"param_2\", \"select\": {\"type\": \"interval\", \"encodings\": [\"x\", \"y\"]}, \"bind\": \"scales\"}], \"title\": \"Impact of emb_data_size on Search Time for Different act_emb_batch_size\", \"width\": 700, \"$schema\": \"https://vega.github.io/schema/vega-lite/v5.20.1.json\", \"datasets\": {\"data-8950dc37c5fcc3e66708f712f8c5954a\": [{\"emb_data_size\": 20000, \"act_emb_batch_size\": 10000, \"search_time\": 3.021059}, {\"emb_data_size\": 20000, \"act_emb_batch_size\": 20000, \"search_time\": 6.173399}, {\"emb_data_size\": 20000, \"act_emb_batch_size\": 30000, \"search_time\": 9.32416}, {\"emb_data_size\": 20000, \"act_emb_batch_size\": 40000, \"search_time\": 12.845653}, {\"emb_data_size\": 20000, \"act_emb_batch_size\": 50000, \"search_time\": 15.33142}, {\"emb_data_size\": 30000, \"act_emb_batch_size\": 10000, \"search_time\": 3.190155}, {\"emb_data_size\": 30000, \"act_emb_batch_size\": 20000, \"search_time\": 6.625181}, {\"emb_data_size\": 30000, \"act_emb_batch_size\": 30000, \"search_time\": 9.564243}, {\"emb_data_size\": 30000, \"act_emb_batch_size\": 40000, \"search_time\": 12.921734}, {\"emb_data_size\": 30000, \"act_emb_batch_size\": 50000, \"search_time\": 16.237274}, {\"emb_data_size\": 40000, \"act_emb_batch_size\": 10000, \"search_time\": 3.850783}, {\"emb_data_size\": 40000, \"act_emb_batch_size\": 20000, \"search_time\": 7.332977}, {\"emb_data_size\": 40000, \"act_emb_batch_size\": 30000, \"search_time\": 11.308969}, {\"emb_data_size\": 40000, \"act_emb_batch_size\": 40000, \"search_time\": 14.178081}, {\"emb_data_size\": 40000, \"act_emb_batch_size\": 50000, \"search_time\": 16.25203}, {\"emb_data_size\": 50000, \"act_emb_batch_size\": 10000, \"search_time\": 4.743347}, {\"emb_data_size\": 50000, \"act_emb_batch_size\": 20000, \"search_time\": 6.289605}, {\"emb_data_size\": 50000, \"act_emb_batch_size\": 30000, \"search_time\": 10.923016}, {\"emb_data_size\": 50000, \"act_emb_batch_size\": 40000, \"search_time\": 13.01275}, {\"emb_data_size\": 50000, \"act_emb_batch_size\": 50000, \"search_time\": 16.93647}, {\"emb_data_size\": 100000, \"act_emb_batch_size\": 10000, \"search_time\": 4.174181}, {\"emb_data_size\": 100000, \"act_emb_batch_size\": 20000, \"search_time\": 8.461123}, {\"emb_data_size\": 100000, \"act_emb_batch_size\": 30000, \"search_time\": 14.828543}, {\"emb_data_size\": 100000, \"act_emb_batch_size\": 40000, \"search_time\": 19.083432}, {\"emb_data_size\": 100000, \"act_emb_batch_size\": 50000, \"search_time\": 24.249629}, {\"emb_data_size\": 150000, \"act_emb_batch_size\": 10000, \"search_time\": 7.570441}, {\"emb_data_size\": 150000, \"act_emb_batch_size\": 20000, \"search_time\": 11.908052}, {\"emb_data_size\": 150000, \"act_emb_batch_size\": 30000, \"search_time\": 17.930405}, {\"emb_data_size\": 150000, \"act_emb_batch_size\": 40000, \"search_time\": 23.633669}, {\"emb_data_size\": 150000, \"act_emb_batch_size\": 50000, \"search_time\": 30.538998}, {\"emb_data_size\": 200000, \"act_emb_batch_size\": 10000, \"search_time\": 7.497427}, {\"emb_data_size\": 200000, \"act_emb_batch_size\": 20000, \"search_time\": 14.642496}, {\"emb_data_size\": 200000, \"act_emb_batch_size\": 30000, \"search_time\": 22.535946}, {\"emb_data_size\": 200000, \"act_emb_batch_size\": 40000, \"search_time\": 32.092848}, {\"emb_data_size\": 200000, \"act_emb_batch_size\": 50000, \"search_time\": 39.933198}]}}, {\"mode\": \"vega-lite\"});\n",
              "</script>"
            ],
            "text/plain": [
              "alt.Chart(...)"
            ]
          },
          "metadata": {},
          "execution_count": 2
        }
      ]
    },
    {
      "cell_type": "markdown",
      "source": [
        "### Conf 3 (1 cpu, but different index):\n",
        "*   pool - 10/10\n",
        "*   local mac env\n",
        "*   memory limit 4gb (actual peak < 0.25 gb),\n",
        "*   cpu limit 1\n",
        "*   index size of 200k emb- 390mb (538 s insertion time)\n",
        "*   image: vibrant_panini\n",
        "*   index type - hnsw\n",
        "*   topk-5\n",
        "\n",
        "\n",
        "\n"
      ],
      "metadata": {
        "id": "vvMDh6zqBjm1"
      }
    },
    {
      "cell_type": "code",
      "source": [
        "#    emb_data_size  act_emb_batch_size  search_time\n",
        "# 0          30000               50000    47.585140\n",
        "# 1         200000               50000   443.415848"
      ],
      "metadata": {
        "id": "j_w0W8H5DGr3"
      },
      "execution_count": 2,
      "outputs": []
    },
    {
      "cell_type": "markdown",
      "source": [
        "### Conf 4 (1 cpu, no index):\n",
        "*   pool - 10/10\n",
        "*   local mac env\n",
        "*   memory limit 4gb (actual peak < 0.256 gb),\n",
        "*   cpu limit 1\n",
        "*   index size of 200k emb 0 (1342 s insertion time)\n",
        "*   image: vibrant_panini\n",
        "*   index type - None\n",
        "*   topk-5\n",
        "\n",
        "\n",
        "\n"
      ],
      "metadata": {
        "id": "d7plSWDtDG5X"
      }
    },
    {
      "cell_type": "code",
      "source": [
        "#    emb_data_size  act_emb_batch_size  search_time\n",
        "# 0          20000                1000     17.30244"
      ],
      "metadata": {
        "id": "1JuvtqGuDHLl"
      },
      "execution_count": 2,
      "outputs": []
    },
    {
      "cell_type": "markdown",
      "source": [
        "### Conf 5 (1 cpu, chnaging topk):\n",
        "*   pool - 10/10\n",
        "*   local mac env\n",
        "*   memory limit 4gb (actual peak < 0.5gb),\n",
        "*   cpu limit 1 (set by docker run --cpus=\"1.0\" -m 4g --memory-swap 4g <image-name>)\n",
        "*   index size of 200k emb 313mb (40s insertion time)\n",
        "*   image: vibrant_panini\n",
        "*   index type - ivfflat\n",
        "*   topk-15,50,100\n",
        "\n",
        "\n",
        "\n"
      ],
      "metadata": {
        "id": "5wA1yxv5VEjX"
      }
    },
    {
      "cell_type": "code",
      "source": [
        "#    emb_data_size  act_emb_batch_size topk search_time\n",
        "\n",
        "# 3          40000               10000  50   12.230394\n",
        "# 4          40000               10000  70   14.283888\n",
        "# 5          40000               10000  100  18.102471\n",
        "\n",
        "# 6          40000               20000  50    25.527299\n",
        "# 7          40000               20000  70    30.717884\n",
        "# 8          40000               20000  100   39.769752\n",
        "\n",
        "# 0          40000               30000    15    25.506668\n",
        "# 1          40000               30000    50    45.103072\n",
        "# 2          40000               30000    70    46.281904\n",
        "# 3          40000               30000   100   183.940351\n",
        "\n",
        "# 4          40000               40000    15    27.397789\n",
        "# 5          40000               40000    50    50.729312\n",
        "# 6          40000               40000    70   168.672060\n",
        "# 7          40000               40000   100   347.715717\n",
        "\n",
        "# 8          40000               50000    15    35.667568\n",
        "# 9          40000               50000    50    83.180587\n",
        "# 10         40000               50000    70   184.753783\n",
        "# 11         40000               50000   100   541.364614\n",
        "\n",
        "# 0         200000               50000  15   141.777982 --- +50s\n",
        "# 1         200000               50000  50   258.867705\n",
        "# 2         200000               50000  100  712.579239"
      ],
      "metadata": {
        "id": "wDnjdSD9VTkF"
      },
      "execution_count": null,
      "outputs": []
    },
    {
      "cell_type": "code",
      "source": [
        "import altair as alt\n",
        "import pandas as pd\n",
        "\n",
        "# Create a Pandas DataFrame from the provided data.\n",
        "data = pd.DataFrame({\n",
        "    'emb_data_size': [40000, 40000, 40000, 40000, 40000, 40000, 40000, 40000, 40000, 40000, 40000, 40000, 40000, 40000, 40000, 40000, 40000, 40000, 200000, 200000, 200000],\n",
        "    'act_emb_batch_size': [10000, 10000, 10000, 20000, 20000, 20000, 30000, 30000, 30000, 30000, 40000, 40000, 40000, 40000, 50000, 50000, 50000, 50000, 50000, 50000, 50000],\n",
        "    'topk': [50, 70, 100, 50, 70, 100, 15, 50, 70, 100, 15, 50, 70, 100, 15, 50, 70, 100, 15, 50, 100],\n",
        "    'search_time': [12.230394, 14.283888, 18.102471, 25.527299, 30.717884, 39.769752, 25.506668, 45.103072, 46.281904, 183.940351, 27.397789, 50.729312, 168.672060, 347.715717, 35.667568, 83.180587, 184.753783, 541.364614, 191.777982, 258.867705, 712.579239]\n",
        "})\n",
        "\n",
        "# Create a unique identifier for each group of 'act_emb_batch_size' and 'emb_data_size'\n",
        "data['group'] = data['act_emb_batch_size'].astype(str) + '_' + data['emb_data_size'].astype(str)\n",
        "\n",
        "# Create the Altair chart\n",
        "chart = alt.Chart(data).mark_line(point=True).encode(\n",
        "    x=alt.X('act_emb_batch_size:Q', title='Actual Embedding Batch Size'),\n",
        "    y=alt.Y('search_time:Q', title='Search Time (seconds)'),\n",
        "    color=alt.Color('topk:N', title='Top K'),\n",
        "    tooltip=['act_emb_batch_size', 'topk', 'search_time', 'emb_data_size'],\n",
        "    facet=alt.Facet('emb_data_size:N', title=\"Embedding Data Size\")\n",
        ").properties(\n",
        "    title='Search Time vs. Actual Embedding Batch Size for Different Top K Values'\n",
        ").interactive()\n",
        "\n",
        "chart"
      ],
      "metadata": {
        "colab": {
          "base_uri": "https://localhost:8080/",
          "height": 423
        },
        "id": "GWulSVsLv-Fa",
        "outputId": "74d72490-0cd5-4106-f067-02a1215fcc1f"
      },
      "execution_count": 2,
      "outputs": [
        {
          "output_type": "execute_result",
          "data": {
            "text/html": [
              "\n",
              "<style>\n",
              "  #altair-viz-2f6a2a9e39e6458c83d2ed408785a811.vega-embed {\n",
              "    width: 100%;\n",
              "    display: flex;\n",
              "  }\n",
              "\n",
              "  #altair-viz-2f6a2a9e39e6458c83d2ed408785a811.vega-embed details,\n",
              "  #altair-viz-2f6a2a9e39e6458c83d2ed408785a811.vega-embed details summary {\n",
              "    position: relative;\n",
              "  }\n",
              "</style>\n",
              "<div id=\"altair-viz-2f6a2a9e39e6458c83d2ed408785a811\"></div>\n",
              "<script type=\"text/javascript\">\n",
              "  var VEGA_DEBUG = (typeof VEGA_DEBUG == \"undefined\") ? {} : VEGA_DEBUG;\n",
              "  (function(spec, embedOpt){\n",
              "    let outputDiv = document.currentScript.previousElementSibling;\n",
              "    if (outputDiv.id !== \"altair-viz-2f6a2a9e39e6458c83d2ed408785a811\") {\n",
              "      outputDiv = document.getElementById(\"altair-viz-2f6a2a9e39e6458c83d2ed408785a811\");\n",
              "    }\n",
              "\n",
              "    const paths = {\n",
              "      \"vega\": \"https://cdn.jsdelivr.net/npm/vega@5?noext\",\n",
              "      \"vega-lib\": \"https://cdn.jsdelivr.net/npm/vega-lib?noext\",\n",
              "      \"vega-lite\": \"https://cdn.jsdelivr.net/npm/vega-lite@5.20.1?noext\",\n",
              "      \"vega-embed\": \"https://cdn.jsdelivr.net/npm/vega-embed@6?noext\",\n",
              "    };\n",
              "\n",
              "    function maybeLoadScript(lib, version) {\n",
              "      var key = `${lib.replace(\"-\", \"\")}_version`;\n",
              "      return (VEGA_DEBUG[key] == version) ?\n",
              "        Promise.resolve(paths[lib]) :\n",
              "        new Promise(function(resolve, reject) {\n",
              "          var s = document.createElement('script');\n",
              "          document.getElementsByTagName(\"head\")[0].appendChild(s);\n",
              "          s.async = true;\n",
              "          s.onload = () => {\n",
              "            VEGA_DEBUG[key] = version;\n",
              "            return resolve(paths[lib]);\n",
              "          };\n",
              "          s.onerror = () => reject(`Error loading script: ${paths[lib]}`);\n",
              "          s.src = paths[lib];\n",
              "        });\n",
              "    }\n",
              "\n",
              "    function showError(err) {\n",
              "      outputDiv.innerHTML = `<div class=\"error\" style=\"color:red;\">${err}</div>`;\n",
              "      throw err;\n",
              "    }\n",
              "\n",
              "    function displayChart(vegaEmbed) {\n",
              "      vegaEmbed(outputDiv, spec, embedOpt)\n",
              "        .catch(err => showError(`Javascript Error: ${err.message}<br>This usually means there's a typo in your chart specification. See the javascript console for the full traceback.`));\n",
              "    }\n",
              "\n",
              "    if(typeof define === \"function\" && define.amd) {\n",
              "      requirejs.config({paths});\n",
              "      let deps = [\"vega-embed\"];\n",
              "      require(deps, displayChart, err => showError(`Error loading script: ${err.message}`));\n",
              "    } else {\n",
              "      maybeLoadScript(\"vega\", \"5\")\n",
              "        .then(() => maybeLoadScript(\"vega-lite\", \"5.20.1\"))\n",
              "        .then(() => maybeLoadScript(\"vega-embed\", \"6\"))\n",
              "        .catch(showError)\n",
              "        .then(() => displayChart(vegaEmbed));\n",
              "    }\n",
              "  })({\"config\": {\"view\": {\"continuousWidth\": 300, \"continuousHeight\": 300}}, \"data\": {\"name\": \"data-d0312f0dabc6891fd8e6e2d52410d65d\"}, \"mark\": {\"type\": \"line\", \"point\": true}, \"encoding\": {\"color\": {\"field\": \"topk\", \"title\": \"Top K\", \"type\": \"nominal\"}, \"facet\": {\"field\": \"emb_data_size\", \"title\": \"Embedding Data Size\", \"type\": \"nominal\"}, \"tooltip\": [{\"field\": \"act_emb_batch_size\", \"type\": \"quantitative\"}, {\"field\": \"topk\", \"type\": \"quantitative\"}, {\"field\": \"search_time\", \"type\": \"quantitative\"}, {\"field\": \"emb_data_size\", \"type\": \"quantitative\"}], \"x\": {\"field\": \"act_emb_batch_size\", \"title\": \"Actual Embedding Batch Size\", \"type\": \"quantitative\"}, \"y\": {\"field\": \"search_time\", \"title\": \"Search Time (seconds)\", \"type\": \"quantitative\"}}, \"params\": [{\"name\": \"param_2\", \"select\": {\"type\": \"interval\", \"encodings\": [\"x\", \"y\"]}, \"bind\": \"scales\"}], \"title\": \"Search Time vs. Actual Embedding Batch Size for Different Top K Values\", \"$schema\": \"https://vega.github.io/schema/vega-lite/v5.20.1.json\", \"datasets\": {\"data-d0312f0dabc6891fd8e6e2d52410d65d\": [{\"emb_data_size\": 40000, \"act_emb_batch_size\": 10000, \"topk\": 50, \"search_time\": 12.230394, \"group\": \"10000_40000\"}, {\"emb_data_size\": 40000, \"act_emb_batch_size\": 10000, \"topk\": 70, \"search_time\": 14.283888, \"group\": \"10000_40000\"}, {\"emb_data_size\": 40000, \"act_emb_batch_size\": 10000, \"topk\": 100, \"search_time\": 18.102471, \"group\": \"10000_40000\"}, {\"emb_data_size\": 40000, \"act_emb_batch_size\": 20000, \"topk\": 50, \"search_time\": 25.527299, \"group\": \"20000_40000\"}, {\"emb_data_size\": 40000, \"act_emb_batch_size\": 20000, \"topk\": 70, \"search_time\": 30.717884, \"group\": \"20000_40000\"}, {\"emb_data_size\": 40000, \"act_emb_batch_size\": 20000, \"topk\": 100, \"search_time\": 39.769752, \"group\": \"20000_40000\"}, {\"emb_data_size\": 40000, \"act_emb_batch_size\": 30000, \"topk\": 15, \"search_time\": 25.506668, \"group\": \"30000_40000\"}, {\"emb_data_size\": 40000, \"act_emb_batch_size\": 30000, \"topk\": 50, \"search_time\": 45.103072, \"group\": \"30000_40000\"}, {\"emb_data_size\": 40000, \"act_emb_batch_size\": 30000, \"topk\": 70, \"search_time\": 46.281904, \"group\": \"30000_40000\"}, {\"emb_data_size\": 40000, \"act_emb_batch_size\": 30000, \"topk\": 100, \"search_time\": 183.940351, \"group\": \"30000_40000\"}, {\"emb_data_size\": 40000, \"act_emb_batch_size\": 40000, \"topk\": 15, \"search_time\": 27.397789, \"group\": \"40000_40000\"}, {\"emb_data_size\": 40000, \"act_emb_batch_size\": 40000, \"topk\": 50, \"search_time\": 50.729312, \"group\": \"40000_40000\"}, {\"emb_data_size\": 40000, \"act_emb_batch_size\": 40000, \"topk\": 70, \"search_time\": 168.67206, \"group\": \"40000_40000\"}, {\"emb_data_size\": 40000, \"act_emb_batch_size\": 40000, \"topk\": 100, \"search_time\": 347.715717, \"group\": \"40000_40000\"}, {\"emb_data_size\": 40000, \"act_emb_batch_size\": 50000, \"topk\": 15, \"search_time\": 35.667568, \"group\": \"50000_40000\"}, {\"emb_data_size\": 40000, \"act_emb_batch_size\": 50000, \"topk\": 50, \"search_time\": 83.180587, \"group\": \"50000_40000\"}, {\"emb_data_size\": 40000, \"act_emb_batch_size\": 50000, \"topk\": 70, \"search_time\": 184.753783, \"group\": \"50000_40000\"}, {\"emb_data_size\": 40000, \"act_emb_batch_size\": 50000, \"topk\": 100, \"search_time\": 541.364614, \"group\": \"50000_40000\"}, {\"emb_data_size\": 200000, \"act_emb_batch_size\": 50000, \"topk\": 15, \"search_time\": 191.777982, \"group\": \"50000_200000\"}, {\"emb_data_size\": 200000, \"act_emb_batch_size\": 50000, \"topk\": 50, \"search_time\": 258.867705, \"group\": \"50000_200000\"}, {\"emb_data_size\": 200000, \"act_emb_batch_size\": 50000, \"topk\": 100, \"search_time\": 712.579239, \"group\": \"50000_200000\"}]}}, {\"mode\": \"vega-lite\"});\n",
              "</script>"
            ],
            "text/plain": [
              "alt.Chart(...)"
            ]
          },
          "metadata": {},
          "execution_count": 2
        }
      ]
    }
  ]
}